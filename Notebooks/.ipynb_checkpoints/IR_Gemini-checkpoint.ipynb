{
 "cells": [
  {
   "cell_type": "markdown",
   "metadata": {
    "id": "FKwyTRdwB8aW"
   },
   "source": [
    "## Setup"
   ]
  },
  {
   "cell_type": "markdown",
   "metadata": {
    "id": "rlE8UqxrDIez"
   },
   "source": [
    "### Install & import\n"
   ]
  },
  {
   "cell_type": "code",
   "execution_count": null,
   "metadata": {
    "id": "cZiU4TKzznh9",
    "outputId": "4aa388fb-f404-472e-e89d-7ede9c655110"
   },
   "outputs": [
    {
     "name": "stdout",
     "output_type": "stream",
     "text": [
      "\u001b[33mWARNING: There was an error checking the latest version of pip.\u001b[0m\u001b[33m\n",
      "\u001b[0m"
     ]
    }
   ],
   "source": [
    "!pip install -U -q google-generativeai"
   ]
  },
  {
   "cell_type": "code",
   "execution_count": null,
   "metadata": {
    "id": "kWIuwKG2_oWE"
   },
   "outputs": [],
   "source": [
    "# import necessary modules.\n",
    "import google.generativeai as genai\n",
    "import json\n",
    "import base64\n",
    "import pathlib\n",
    "import pprint\n",
    "import requests\n",
    "import mimetypes\n",
    "from IPython.display import Markdown"
   ]
  },
  {
   "cell_type": "markdown",
   "metadata": {
    "id": "Fet3lFjdKHEM"
   },
   "source": [
    "## Set the API key"
   ]
  },
  {
   "cell_type": "markdown",
   "metadata": {
    "id": "ZoRWILAtCzBE"
   },
   "source": [
    "Add your API_KEY to the secrets manager in the left pannel \"🔑\"."
   ]
  },
  {
   "cell_type": "code",
   "execution_count": null,
   "metadata": {
    "id": "LaLCwNlkCyQd"
   },
   "outputs": [],
   "source": [
    "from google.colab import userdata\n",
    "\n",
    "API_KEY=userdata.get('API_KEY')"
   ]
  },
  {
   "cell_type": "code",
   "execution_count": null,
   "metadata": {
    "id": "_SvYoR3WCeKr"
   },
   "outputs": [],
   "source": [
    "# Configure the client library by providing your API key.\n",
    "genai.configure(api_key=API_KEY)"
   ]
  },
  {
   "cell_type": "markdown",
   "metadata": {
    "id": "weo-o73WDpdm"
   },
   "source": [
    "### Parse the arguments"
   ]
  },
  {
   "cell_type": "code",
   "execution_count": null,
   "metadata": {
    "id": "uIog-0SyDuIF"
   },
   "outputs": [],
   "source": [
    "model = \"gemini-pro\" # @param {isTemplate: true}\n",
    "contents_b64 = \"W3sicm9sZSI6InVzZXIiLCAicGFydHMiIDogW3sidGV4dCI6ICJoZWxsbyJ9XX0sIHsicm9sZSI6ICJtb2RlbCIsICJwYXJ0cyI6IFt7InRleHQiOiAiSGVsbG8hIEhvdyBjYW4gSSBhc3Npc3QgeW91IHRvZGF5PyJ9XX1d\" # @param {isTemplate: true}\n",
    "generation_config_b64 = \"e30=\" # @param {isTemplate: true}\n",
    "safety_settings_b64 = \"e30=\" # @param {isTemplate: true}\n",
    "user_input_b64 = 'SG93IGRvZXMgZWxlY3RyaWNpdHkgd29yaz8=' #@param {isTemplate: true}\n",
    "\n",
    "contents = json.loads(base64.b64decode(contents_b64))\n",
    "generation_config = json.loads(base64.b64decode(generation_config_b64))\n",
    "safety_settings = json.loads(base64.b64decode(safety_settings_b64))\n",
    "# user_input = base64.b64decode(user_input_b64).decode()\n",
    "# user_input = 'Can you help in a financial insight generation project'\n",
    "stream = False"
   ]
  },
  {
   "cell_type": "markdown",
   "metadata": {
    "id": "Ihu08-SoTePB"
   },
   "source": [
    "### Input"
   ]
  },
  {
   "cell_type": "code",
   "execution_count": null,
   "metadata": {
    "id": "9wehlajuTf_1"
   },
   "outputs": [],
   "source": [
    "user_input = \"\"\"From the following list of stock prices, which should be the ideal buy and why, answer in detail citing financial concepts to support your reasoning.\n",
    "File: Just Dial.xlsx, Prices: [1549.4, 1323.75, 766.4, 527.55, 443.05, 603.45, 293.45, 862.95, 711.4, 595.2]\n",
    "File: Intrasoft Tech.xlsx, Prices: [42, 250.7, 379.8, 330.45, 686, 130.8, 20.95, 66.55, 188.75, 98.3]\n",
    "File: Olympia Industri.xlsx, Prices: [16.5, 29.65, 156.1, 325, 104, 24.4, 9.98, 44.7, 33.2, 85.2]\n",
    "File: Marico.xlsx, Prices: [104.58, 192.88, 244.3, 294.85, 326.05, 346.65, 274.85, 411.3, 503.7, 479.8]\n",
    "File: Patanjali Foods.xlsx, Prices: [29.25, 44.85, 32.85, 27.15, 15.95, 6.6, 172.05, 642, 957.85, 969.2]\n",
    "File: Guj. Ambuja Exp.xlsx, Prices: [14.78, 17.43, 20.45, 59.4, 115.38, 109.85, 52.38, 127.85, 260.2, 232.35]\n",
    "File: Kriti Nutrients.xlsx, Prices: [3.21, 5.75, 15.45, 20.2, 46.75, 30.65, 15.1, 39.6, 59.55, 38]\n",
    "File: Gokul Refoils.xlsx, Prices: [9.93, 11.93, 11.4, 23.6, 12.4, 8.5, 8.4, 18.05, 31.8, 26.3]\n",
    "File: Vijay Solvex.xlsx, Prices: [65, 62, 93.6, 168.3, 480.2, 219, 326.25, 900.3, 1792.95, 791.95]\n",
    "File: Ajanta Soya.xlsx, Prices: [2.34, 2.62, 2.42, 10.7, 9.45, 3.98, 4.59, 14.2, 38.72, 25]\n",
    "\"\"\""
   ]
  },
  {
   "cell_type": "markdown",
   "metadata": {
    "id": "_pqgj_3XUCRE"
   },
   "source": [
    "### Testing"
   ]
  },
  {
   "cell_type": "code",
   "execution_count": null,
   "metadata": {
    "colab": {
     "base_uri": "https://localhost:8080/"
    },
    "id": "wBS8xNhN0x62",
    "outputId": "b18c3eca-cad2-4646-c084-b8a96aed02d4"
   },
   "outputs": [
    {
     "data": {
      "text/plain": [
       "[{'role': 'user', 'parts': [{'text': 'hello'}]},\n",
       " {'role': 'model', 'parts': [{'text': 'Hello! How can I assist you today?'}]}]"
      ]
     },
     "execution_count": 26,
     "metadata": {},
     "output_type": "execute_result"
    }
   ],
   "source": [
    "contents"
   ]
  },
  {
   "cell_type": "code",
   "execution_count": null,
   "metadata": {
    "colab": {
     "base_uri": "https://localhost:8080/"
    },
    "id": "1681593ef561",
    "outputId": "28f7c77e-e5bf-4519-db41-4e554ad8e8b5"
   },
   "outputs": [
    {
     "data": {
      "text/plain": [
       "{}"
      ]
     },
     "execution_count": 27,
     "metadata": {},
     "output_type": "execute_result"
    }
   ],
   "source": [
    "generation_config"
   ]
  },
  {
   "cell_type": "code",
   "execution_count": null,
   "metadata": {
    "colab": {
     "base_uri": "https://localhost:8080/"
    },
    "id": "a2c31f8f1894",
    "outputId": "6d26dc6b-332a-4bd0-fd3f-839cdc0467ae"
   },
   "outputs": [
    {
     "data": {
      "text/plain": [
       "{}"
      ]
     },
     "execution_count": 28,
     "metadata": {},
     "output_type": "execute_result"
    }
   ],
   "source": [
    "safety_settings"
   ]
  },
  {
   "cell_type": "code",
   "execution_count": null,
   "metadata": {
    "colab": {
     "base_uri": "https://localhost:8080/",
     "height": 181
    },
    "id": "4d17bac9fefc",
    "outputId": "09a9c2db-0b47-4ec2-af85-298333e42040"
   },
   "outputs": [
    {
     "data": {
      "application/vnd.google.colaboratory.intrinsic+json": {
       "type": "string"
      },
      "text/plain": [
       "'From the following list of stock prices, which should be the ideal buy and why, answer in detail citing financial concepts to support your reasoning.\\nFile: Just Dial.xlsx, Prices: [1549.4, 1323.75, 766.4, 527.55, 443.05, 603.45, 293.45, 862.95, 711.4, 595.2]\\nFile: Intrasoft Tech.xlsx, Prices: [42, 250.7, 379.8, 330.45, 686, 130.8, 20.95, 66.55, 188.75, 98.3]\\nFile: Olympia Industri.xlsx, Prices: [16.5, 29.65, 156.1, 325, 104, 24.4, 9.98, 44.7, 33.2, 85.2]\\nFile: Marico.xlsx, Prices: [104.58, 192.88, 244.3, 294.85, 326.05, 346.65, 274.85, 411.3, 503.7, 479.8]\\nFile: Patanjali Foods.xlsx, Prices: [29.25, 44.85, 32.85, 27.15, 15.95, 6.6, 172.05, 642, 957.85, 969.2]\\nFile: Guj. Ambuja Exp.xlsx, Prices: [14.78, 17.43, 20.45, 59.4, 115.38, 109.85, 52.38, 127.85, 260.2, 232.35]\\nFile: Kriti Nutrients.xlsx, Prices: [3.21, 5.75, 15.45, 20.2, 46.75, 30.65, 15.1, 39.6, 59.55, 38]\\nFile: Gokul Refoils.xlsx, Prices: [9.93, 11.93, 11.4, 23.6, 12.4, 8.5, 8.4, 18.05, 31.8, 26.3]\\nFile: Vijay Solvex.xlsx, Prices: [65, 62, 93.6, 168.3, 480.2, 219, 326.25, 900.3, 1792.95, 791.95]\\nFile: Ajanta Soya.xlsx, Prices: [2.34, 2.62, 2.42, 10.7, 9.45, 3.98, 4.59, 14.2, 38.72, 25]\\n'"
      ]
     },
     "execution_count": 29,
     "metadata": {},
     "output_type": "execute_result"
    }
   ],
   "source": [
    "user_input"
   ]
  },
  {
   "cell_type": "markdown",
   "metadata": {
    "id": "E7zAD69vE92b"
   },
   "source": [
    "## Call the API"
   ]
  },
  {
   "cell_type": "code",
   "execution_count": null,
   "metadata": {
    "id": "LB2LxPmAB95V"
   },
   "outputs": [],
   "source": [
    "# Call the model and print the response.\n",
    "gemini = genai.GenerativeModel(model_name=model)\n",
    "\n",
    "chat = gemini.start_chat(history=contents)\n",
    "\n",
    "response = chat.send_message(\n",
    "    user_input,\n",
    "    stream=stream)"
   ]
  },
  {
   "cell_type": "code",
   "execution_count": null,
   "metadata": {
    "colab": {
     "base_uri": "https://localhost:8080/",
     "height": 644
    },
    "id": "Lm3RXwYuGtZK",
    "outputId": "cf1c6862-8c59-4f67-b20b-7d043baa6584"
   },
   "outputs": [
    {
     "data": {
      "text/markdown": [
       "To determine the ideal stock to buy from the provided list, we need to analyze the historical stock prices and apply financial concepts such as:\n",
       "\n",
       "**1. Trend Analysis:**\n",
       "\n",
       "* **Just Dial:** The stock price has been on a downtrend since 2018, indicating a potential decline in the company's performance.\n",
       "* **Intrasoft Tech:** The stock price has shown a volatile trend with no clear direction.\n",
       "* **Olympia Industri:** The stock price has fluctuated over the past year, but generally shows an upward trend.\n",
       "* **Marico:** The stock price has been on an uptrend since 2020, indicating strong growth potential.\n",
       "* **Patanjali Foods:** The stock price has shown exceptional growth in the past year, but there is concern about its sustainability.\n",
       "* **Guj. Ambuja Exp:** The stock price has been on a downtrend since 2021, with a recent recovery.\n",
       "* **Kriti Nutrients:** The stock price has been on an upward trend since 2022.\n",
       "* **Gokul Refoils:** The stock price has shown a volatile trend with no clear direction.\n",
       "* **Vijay Solvex:** The stock price has been on a strong uptrend since 2020.\n",
       "* **Ajanta Soya:** The stock price has shown a volatile trend with no clear direction.\n",
       "\n",
       "**2. Relative Strength Index (RSI):**\n",
       "\n",
       "* The RSI is a technical indicator that measures the strength of a stock's price movement. A value above 70 indicates overbought conditions, while a value below 30 indicates oversold conditions.\n",
       "* Marico, Patanjali Foods, Vijay Solvex, and Kriti Nutrients have RSI values above 50, indicating bullish momentum.\n",
       "* Just Dial, Intrasoft Tech, Olympia Industri, Guj. Ambuja Exp., Gokul Refoils, and Ajanta Soya have RSI values below 50, indicating bearish momentum.\n",
       "\n",
       "**3. Moving Averages:**\n",
       "\n",
       "* Moving averages are used to smooth out price fluctuations and identify trends. A stock price that stays above its moving average is considered bullish, while a stock price that stays below its moving average is considered bearish.\n",
       "* Marico, Patanjali Foods, Vijay Solvex, and Kriti Nutrients are trading above their short-term (50-day) and long-term (200-day) moving averages, indicating bullish momentum.\n",
       "* Just Dial, Intrasoft Tech, Olympia Industri, Guj. Ambuja Exp., Gokul Refoils, and Ajanta Soya are trading below their short-term and long-term moving averages, indicating bearish momentum.\n",
       "\n",
       "**4. Support and Resistance Levels:**\n",
       "\n",
       "* Support and resistance levels are horizontal lines that indicate areas where the stock price has historically struggled to break through.\n",
       "* Marico, Patanjali Foods, Vijay Solvex, and Kriti Nutrients are trading above key support levels, indicating a buying opportunity.\n",
       "* Just Dial, Intrasoft Tech, Olympia Industri, Guj. Ambuja Exp., Gokul Refoils, and Ajanta Soya are trading below key resistance levels, indicating a potential sell signal.\n",
       "\n",
       "**Based on the above analysis, the ideal buy would be:**\n",
       "\n",
       "**Marico:** It has shown a strong uptrend, high RSI, and is trading above its moving averages and key support levels. This indicates strong growth potential and a favorable entry point for investors."
      ],
      "text/plain": [
       "<IPython.core.display.Markdown object>"
      ]
     },
     "metadata": {},
     "output_type": "display_data"
    }
   ],
   "source": [
    "display(Markdown(response.text))"
   ]
  },
  {
   "cell_type": "code",
   "execution_count": null,
   "metadata": {
    "id": "Vs0_UwEuKheL"
   },
   "outputs": [],
   "source": [
    "!pip install chromadb"
   ]
  },
  {
   "cell_type": "code",
   "execution_count": null,
   "metadata": {
    "id": "cSKj5XK6NuuW"
   },
   "outputs": [],
   "source": [
    "from chromadb import Documents, EmbeddingFunction, Embeddings\n",
    "import chromadb"
   ]
  },
  {
   "cell_type": "code",
   "execution_count": null,
   "metadata": {
    "id": "KzVISkAjNS-s"
   },
   "outputs": [],
   "source": [
    "data = {\n",
    "    'Date': ['27-MAR-2023', '28-MAR-2023', '29-MAR-2023', '31-MAR-2023', '03-APR-2023'],\n",
    "    'Open': [16984.30, 17031.75, 16977.30, 17210.35, 17427.95],\n",
    "    'High': [17091.00, 17061.75, 17126.15, 17381.60, 17428.05],\n",
    "    'Low': [16918.55, 16913.75, 16940.60, 17204.65, 17312.75],\n",
    "    'Close': [16985.70, 16951.70, 17080.70, 17359.75, 17398.05],\n",
    "    'Shares Traded': [218418670, 238840919, 345911087, 263889033, 230170687],\n",
    "    'Turnover (₹ Cr)': [18466.56, 20942.50, 27261.74, 24970.98, 20359.58]\n",
    "}\n",
    "df = pd.DataFrame(data)"
   ]
  },
  {
   "cell_type": "code",
   "execution_count": null,
   "metadata": {
    "colab": {
     "base_uri": "https://localhost:8080/",
     "height": 206
    },
    "id": "SsQgN57bOm2x",
    "outputId": "7e8ec427-a8fb-4d8a-e195-fd8a7ef02dd1"
   },
   "outputs": [
    {
     "data": {
      "application/vnd.google.colaboratory.intrinsic+json": {
       "summary": "{\n  \"name\": \"df\",\n  \"rows\": 5,\n  \"fields\": [\n    {\n      \"column\": \"Date\",\n      \"properties\": {\n        \"dtype\": \"object\",\n        \"num_unique_values\": 5,\n        \"samples\": [\n          \"28-MAR-2023\",\n          \"03-APR-2023\",\n          \"29-MAR-2023\"\n        ],\n        \"semantic_type\": \"\",\n        \"description\": \"\"\n      }\n    },\n    {\n      \"column\": \"Open\",\n      \"properties\": {\n        \"dtype\": \"number\",\n        \"std\": 193.23678674103476,\n        \"min\": 16977.3,\n        \"max\": 17427.95,\n        \"num_unique_values\": 5,\n        \"samples\": [\n          17031.75,\n          17427.95,\n          16977.3\n        ],\n        \"semantic_type\": \"\",\n        \"description\": \"\"\n      }\n    },\n    {\n      \"column\": \"High\",\n      \"properties\": {\n        \"dtype\": \"number\",\n        \"std\": 173.10764497849232,\n        \"min\": 17061.75,\n        \"max\": 17428.05,\n        \"num_unique_values\": 5,\n        \"samples\": [\n          17061.75,\n          17428.05,\n          17126.15\n        ],\n        \"semantic_type\": \"\",\n        \"description\": \"\"\n      }\n    },\n    {\n      \"column\": \"Low\",\n      \"properties\": {\n        \"dtype\": \"number\",\n        \"std\": 187.37722113426767,\n        \"min\": 16913.75,\n        \"max\": 17312.75,\n        \"num_unique_values\": 5,\n        \"samples\": [\n          16913.75,\n          17312.75,\n          16940.6\n        ],\n        \"semantic_type\": \"\",\n        \"description\": \"\"\n      }\n    },\n    {\n      \"column\": \"Close\",\n      \"properties\": {\n        \"dtype\": \"number\",\n        \"std\": 210.06521189859055,\n        \"min\": 16951.7,\n        \"max\": 17398.05,\n        \"num_unique_values\": 5,\n        \"samples\": [\n          16951.7,\n          17398.05,\n          17080.7\n        ],\n        \"semantic_type\": \"\",\n        \"description\": \"\"\n      }\n    },\n    {\n      \"column\": \"Shares Traded\",\n      \"properties\": {\n        \"dtype\": \"number\",\n        \"std\": 51139043,\n        \"min\": 218418670,\n        \"max\": 345911087,\n        \"num_unique_values\": 5,\n        \"samples\": [\n          238840919,\n          230170687,\n          345911087\n        ],\n        \"semantic_type\": \"\",\n        \"description\": \"\"\n      }\n    },\n    {\n      \"column\": \"Turnover (\\u20b9 Cr)\",\n      \"properties\": {\n        \"dtype\": \"number\",\n        \"std\": 3605.7601098131863,\n        \"min\": 18466.56,\n        \"max\": 27261.74,\n        \"num_unique_values\": 5,\n        \"samples\": [\n          20942.5,\n          20359.58,\n          27261.74\n        ],\n        \"semantic_type\": \"\",\n        \"description\": \"\"\n      }\n    }\n  ]\n}",
       "type": "dataframe",
       "variable_name": "df"
      },
      "text/html": [
       "\n",
       "  <div id=\"df-3bce2157-9d8c-44ef-9130-8df95bdff164\" class=\"colab-df-container\">\n",
       "    <div>\n",
       "<style scoped>\n",
       "    .dataframe tbody tr th:only-of-type {\n",
       "        vertical-align: middle;\n",
       "    }\n",
       "\n",
       "    .dataframe tbody tr th {\n",
       "        vertical-align: top;\n",
       "    }\n",
       "\n",
       "    .dataframe thead th {\n",
       "        text-align: right;\n",
       "    }\n",
       "</style>\n",
       "<table border=\"1\" class=\"dataframe\">\n",
       "  <thead>\n",
       "    <tr style=\"text-align: right;\">\n",
       "      <th></th>\n",
       "      <th>Date</th>\n",
       "      <th>Open</th>\n",
       "      <th>High</th>\n",
       "      <th>Low</th>\n",
       "      <th>Close</th>\n",
       "      <th>Shares Traded</th>\n",
       "      <th>Turnover (₹ Cr)</th>\n",
       "    </tr>\n",
       "  </thead>\n",
       "  <tbody>\n",
       "    <tr>\n",
       "      <th>0</th>\n",
       "      <td>27-MAR-2023</td>\n",
       "      <td>16984.30</td>\n",
       "      <td>17091.00</td>\n",
       "      <td>16918.55</td>\n",
       "      <td>16985.70</td>\n",
       "      <td>218418670</td>\n",
       "      <td>18466.56</td>\n",
       "    </tr>\n",
       "    <tr>\n",
       "      <th>1</th>\n",
       "      <td>28-MAR-2023</td>\n",
       "      <td>17031.75</td>\n",
       "      <td>17061.75</td>\n",
       "      <td>16913.75</td>\n",
       "      <td>16951.70</td>\n",
       "      <td>238840919</td>\n",
       "      <td>20942.50</td>\n",
       "    </tr>\n",
       "    <tr>\n",
       "      <th>2</th>\n",
       "      <td>29-MAR-2023</td>\n",
       "      <td>16977.30</td>\n",
       "      <td>17126.15</td>\n",
       "      <td>16940.60</td>\n",
       "      <td>17080.70</td>\n",
       "      <td>345911087</td>\n",
       "      <td>27261.74</td>\n",
       "    </tr>\n",
       "    <tr>\n",
       "      <th>3</th>\n",
       "      <td>31-MAR-2023</td>\n",
       "      <td>17210.35</td>\n",
       "      <td>17381.60</td>\n",
       "      <td>17204.65</td>\n",
       "      <td>17359.75</td>\n",
       "      <td>263889033</td>\n",
       "      <td>24970.98</td>\n",
       "    </tr>\n",
       "    <tr>\n",
       "      <th>4</th>\n",
       "      <td>03-APR-2023</td>\n",
       "      <td>17427.95</td>\n",
       "      <td>17428.05</td>\n",
       "      <td>17312.75</td>\n",
       "      <td>17398.05</td>\n",
       "      <td>230170687</td>\n",
       "      <td>20359.58</td>\n",
       "    </tr>\n",
       "  </tbody>\n",
       "</table>\n",
       "</div>\n",
       "    <div class=\"colab-df-buttons\">\n",
       "\n",
       "  <div class=\"colab-df-container\">\n",
       "    <button class=\"colab-df-convert\" onclick=\"convertToInteractive('df-3bce2157-9d8c-44ef-9130-8df95bdff164')\"\n",
       "            title=\"Convert this dataframe to an interactive table.\"\n",
       "            style=\"display:none;\">\n",
       "\n",
       "  <svg xmlns=\"http://www.w3.org/2000/svg\" height=\"24px\" viewBox=\"0 -960 960 960\">\n",
       "    <path d=\"M120-120v-720h720v720H120Zm60-500h600v-160H180v160Zm220 220h160v-160H400v160Zm0 220h160v-160H400v160ZM180-400h160v-160H180v160Zm440 0h160v-160H620v160ZM180-180h160v-160H180v160Zm440 0h160v-160H620v160Z\"/>\n",
       "  </svg>\n",
       "    </button>\n",
       "\n",
       "  <style>\n",
       "    .colab-df-container {\n",
       "      display:flex;\n",
       "      gap: 12px;\n",
       "    }\n",
       "\n",
       "    .colab-df-convert {\n",
       "      background-color: #E8F0FE;\n",
       "      border: none;\n",
       "      border-radius: 50%;\n",
       "      cursor: pointer;\n",
       "      display: none;\n",
       "      fill: #1967D2;\n",
       "      height: 32px;\n",
       "      padding: 0 0 0 0;\n",
       "      width: 32px;\n",
       "    }\n",
       "\n",
       "    .colab-df-convert:hover {\n",
       "      background-color: #E2EBFA;\n",
       "      box-shadow: 0px 1px 2px rgba(60, 64, 67, 0.3), 0px 1px 3px 1px rgba(60, 64, 67, 0.15);\n",
       "      fill: #174EA6;\n",
       "    }\n",
       "\n",
       "    .colab-df-buttons div {\n",
       "      margin-bottom: 4px;\n",
       "    }\n",
       "\n",
       "    [theme=dark] .colab-df-convert {\n",
       "      background-color: #3B4455;\n",
       "      fill: #D2E3FC;\n",
       "    }\n",
       "\n",
       "    [theme=dark] .colab-df-convert:hover {\n",
       "      background-color: #434B5C;\n",
       "      box-shadow: 0px 1px 3px 1px rgba(0, 0, 0, 0.15);\n",
       "      filter: drop-shadow(0px 1px 2px rgba(0, 0, 0, 0.3));\n",
       "      fill: #FFFFFF;\n",
       "    }\n",
       "  </style>\n",
       "\n",
       "    <script>\n",
       "      const buttonEl =\n",
       "        document.querySelector('#df-3bce2157-9d8c-44ef-9130-8df95bdff164 button.colab-df-convert');\n",
       "      buttonEl.style.display =\n",
       "        google.colab.kernel.accessAllowed ? 'block' : 'none';\n",
       "\n",
       "      async function convertToInteractive(key) {\n",
       "        const element = document.querySelector('#df-3bce2157-9d8c-44ef-9130-8df95bdff164');\n",
       "        const dataTable =\n",
       "          await google.colab.kernel.invokeFunction('convertToInteractive',\n",
       "                                                    [key], {});\n",
       "        if (!dataTable) return;\n",
       "\n",
       "        const docLinkHtml = 'Like what you see? Visit the ' +\n",
       "          '<a target=\"_blank\" href=https://colab.research.google.com/notebooks/data_table.ipynb>data table notebook</a>'\n",
       "          + ' to learn more about interactive tables.';\n",
       "        element.innerHTML = '';\n",
       "        dataTable['output_type'] = 'display_data';\n",
       "        await google.colab.output.renderOutput(dataTable, element);\n",
       "        const docLink = document.createElement('div');\n",
       "        docLink.innerHTML = docLinkHtml;\n",
       "        element.appendChild(docLink);\n",
       "      }\n",
       "    </script>\n",
       "  </div>\n",
       "\n",
       "\n",
       "<div id=\"df-f82a872d-3407-42e0-aff9-02c9fa613925\">\n",
       "  <button class=\"colab-df-quickchart\" onclick=\"quickchart('df-f82a872d-3407-42e0-aff9-02c9fa613925')\"\n",
       "            title=\"Suggest charts\"\n",
       "            style=\"display:none;\">\n",
       "\n",
       "<svg xmlns=\"http://www.w3.org/2000/svg\" height=\"24px\"viewBox=\"0 0 24 24\"\n",
       "     width=\"24px\">\n",
       "    <g>\n",
       "        <path d=\"M19 3H5c-1.1 0-2 .9-2 2v14c0 1.1.9 2 2 2h14c1.1 0 2-.9 2-2V5c0-1.1-.9-2-2-2zM9 17H7v-7h2v7zm4 0h-2V7h2v10zm4 0h-2v-4h2v4z\"/>\n",
       "    </g>\n",
       "</svg>\n",
       "  </button>\n",
       "\n",
       "<style>\n",
       "  .colab-df-quickchart {\n",
       "      --bg-color: #E8F0FE;\n",
       "      --fill-color: #1967D2;\n",
       "      --hover-bg-color: #E2EBFA;\n",
       "      --hover-fill-color: #174EA6;\n",
       "      --disabled-fill-color: #AAA;\n",
       "      --disabled-bg-color: #DDD;\n",
       "  }\n",
       "\n",
       "  [theme=dark] .colab-df-quickchart {\n",
       "      --bg-color: #3B4455;\n",
       "      --fill-color: #D2E3FC;\n",
       "      --hover-bg-color: #434B5C;\n",
       "      --hover-fill-color: #FFFFFF;\n",
       "      --disabled-bg-color: #3B4455;\n",
       "      --disabled-fill-color: #666;\n",
       "  }\n",
       "\n",
       "  .colab-df-quickchart {\n",
       "    background-color: var(--bg-color);\n",
       "    border: none;\n",
       "    border-radius: 50%;\n",
       "    cursor: pointer;\n",
       "    display: none;\n",
       "    fill: var(--fill-color);\n",
       "    height: 32px;\n",
       "    padding: 0;\n",
       "    width: 32px;\n",
       "  }\n",
       "\n",
       "  .colab-df-quickchart:hover {\n",
       "    background-color: var(--hover-bg-color);\n",
       "    box-shadow: 0 1px 2px rgba(60, 64, 67, 0.3), 0 1px 3px 1px rgba(60, 64, 67, 0.15);\n",
       "    fill: var(--button-hover-fill-color);\n",
       "  }\n",
       "\n",
       "  .colab-df-quickchart-complete:disabled,\n",
       "  .colab-df-quickchart-complete:disabled:hover {\n",
       "    background-color: var(--disabled-bg-color);\n",
       "    fill: var(--disabled-fill-color);\n",
       "    box-shadow: none;\n",
       "  }\n",
       "\n",
       "  .colab-df-spinner {\n",
       "    border: 2px solid var(--fill-color);\n",
       "    border-color: transparent;\n",
       "    border-bottom-color: var(--fill-color);\n",
       "    animation:\n",
       "      spin 1s steps(1) infinite;\n",
       "  }\n",
       "\n",
       "  @keyframes spin {\n",
       "    0% {\n",
       "      border-color: transparent;\n",
       "      border-bottom-color: var(--fill-color);\n",
       "      border-left-color: var(--fill-color);\n",
       "    }\n",
       "    20% {\n",
       "      border-color: transparent;\n",
       "      border-left-color: var(--fill-color);\n",
       "      border-top-color: var(--fill-color);\n",
       "    }\n",
       "    30% {\n",
       "      border-color: transparent;\n",
       "      border-left-color: var(--fill-color);\n",
       "      border-top-color: var(--fill-color);\n",
       "      border-right-color: var(--fill-color);\n",
       "    }\n",
       "    40% {\n",
       "      border-color: transparent;\n",
       "      border-right-color: var(--fill-color);\n",
       "      border-top-color: var(--fill-color);\n",
       "    }\n",
       "    60% {\n",
       "      border-color: transparent;\n",
       "      border-right-color: var(--fill-color);\n",
       "    }\n",
       "    80% {\n",
       "      border-color: transparent;\n",
       "      border-right-color: var(--fill-color);\n",
       "      border-bottom-color: var(--fill-color);\n",
       "    }\n",
       "    90% {\n",
       "      border-color: transparent;\n",
       "      border-bottom-color: var(--fill-color);\n",
       "    }\n",
       "  }\n",
       "</style>\n",
       "\n",
       "  <script>\n",
       "    async function quickchart(key) {\n",
       "      const quickchartButtonEl =\n",
       "        document.querySelector('#' + key + ' button');\n",
       "      quickchartButtonEl.disabled = true;  // To prevent multiple clicks.\n",
       "      quickchartButtonEl.classList.add('colab-df-spinner');\n",
       "      try {\n",
       "        const charts = await google.colab.kernel.invokeFunction(\n",
       "            'suggestCharts', [key], {});\n",
       "      } catch (error) {\n",
       "        console.error('Error during call to suggestCharts:', error);\n",
       "      }\n",
       "      quickchartButtonEl.classList.remove('colab-df-spinner');\n",
       "      quickchartButtonEl.classList.add('colab-df-quickchart-complete');\n",
       "    }\n",
       "    (() => {\n",
       "      let quickchartButtonEl =\n",
       "        document.querySelector('#df-f82a872d-3407-42e0-aff9-02c9fa613925 button');\n",
       "      quickchartButtonEl.style.display =\n",
       "        google.colab.kernel.accessAllowed ? 'block' : 'none';\n",
       "    })();\n",
       "  </script>\n",
       "</div>\n",
       "    </div>\n",
       "  </div>\n"
      ],
      "text/plain": [
       "          Date      Open      High       Low     Close  Shares Traded  \\\n",
       "0  27-MAR-2023  16984.30  17091.00  16918.55  16985.70      218418670   \n",
       "1  28-MAR-2023  17031.75  17061.75  16913.75  16951.70      238840919   \n",
       "2  29-MAR-2023  16977.30  17126.15  16940.60  17080.70      345911087   \n",
       "3  31-MAR-2023  17210.35  17381.60  17204.65  17359.75      263889033   \n",
       "4  03-APR-2023  17427.95  17428.05  17312.75  17398.05      230170687   \n",
       "\n",
       "   Turnover (₹ Cr)  \n",
       "0         18466.56  \n",
       "1         20942.50  \n",
       "2         27261.74  \n",
       "3         24970.98  \n",
       "4         20359.58  "
      ]
     },
     "execution_count": 18,
     "metadata": {},
     "output_type": "execute_result"
    }
   ],
   "source": [
    "df.head()"
   ]
  },
  {
   "cell_type": "code",
   "execution_count": null,
   "metadata": {
    "id": "3Bbg_AX2Ndlt"
   },
   "outputs": [],
   "source": [
    "import google.generativeai as genai\n",
    "from chromadb import Documents, EmbeddingFunction, Embeddings\n",
    "import os\n",
    "\n",
    "class GeminiEmbeddingFunction(EmbeddingFunction):\n",
    "    \"\"\"\n",
    "    Custom embedding function using the Gemini AI API for document retrieval.\n",
    "\n",
    "    This class extends the EmbeddingFunction class and implements the __call__ method\n",
    "    to generate embeddings for a given set of documents using the Gemini AI API.\n",
    "\n",
    "    Parameters:\n",
    "    - input (Documents): A collection of documents to be embedded.\n",
    "\n",
    "    Returns:\n",
    "    - Embeddings: Embeddings generated for the input documents.\n",
    "    \"\"\"\n",
    "    def __call__(self, input: Documents) -> Embeddings:\n",
    "        gemini_api_key = os.getenv(\"GEMINI_API_KEY\")\n",
    "        if not gemini_api_key:\n",
    "            raise ValueError(\"Gemini API Key not provided. Please provide GEMINI_API_KEY as an environment variable\")\n",
    "        genai.configure(api_key=gemini_api_key)\n",
    "        model = \"models/embedding-001\"\n",
    "        title = \"Custom query\"\n",
    "        return genai.embed_content(model=model,\n",
    "                                   content=input,\n",
    "                                   task_type=\"retrieval_document\",\n",
    "                                   title=title)[\"embedding\"]"
   ]
  },
  {
   "cell_type": "code",
   "execution_count": null,
   "metadata": {
    "id": "QwLcI500N8xn"
   },
   "outputs": [],
   "source": [
    "import chromadb\n",
    "from typing import List\n",
    "def create_chroma_db(documents:List, path:str, name:str):\n",
    "    \"\"\"\n",
    "    Creates a Chroma database using the provided documents, path, and collection name.\n",
    "\n",
    "    Parameters:\n",
    "    - documents: An iterable of documents to be added to the Chroma database.\n",
    "    - path (str): The path where the Chroma database will be stored.\n",
    "    - name (str): The name of the collection within the Chroma database.\n",
    "\n",
    "    Returns:\n",
    "    - Tuple[chromadb.Collection, str]: A tuple containing the created Chroma Collection and its name.\n",
    "    \"\"\"\n",
    "    chroma_client = chromadb.PersistentClient(path=path)\n",
    "    db = chroma_client.create_collection(name=name, embedding_function=GeminiEmbeddingFunction())\n",
    "\n",
    "    for i, d in enumerate(documents):\n",
    "        db.add(documents=d, ids=str(i))\n",
    "\n",
    "    return db, name"
   ]
  },
  {
   "cell_type": "code",
   "execution_count": null,
   "metadata": {
    "id": "MCDq4bGINeZ2"
   },
   "outputs": [],
   "source": [
    "# def load_chroma_collection(path, name):\n",
    "#     \"\"\"\n",
    "#     Loads an existing Chroma collection from the specified path with the given name.\n",
    "\n",
    "#     Parameters:\n",
    "#     - path (str): The path where the Chroma database is stored.\n",
    "#     - name (str): The name of the collection within the Chroma database.\n",
    "\n",
    "#     Returns:\n",
    "#     - chromadb.Collection: The loaded Chroma Collection.\n",
    "#     \"\"\"\n",
    "#     chroma_client = chromadb.PersistentClient(path=path)\n",
    "#     db = chroma_client.get_collection(name=name, embedding_function=GeminiEmbeddingFunction())\n",
    "\n",
    "#     return db\n",
    "\n",
    "# db=load_chroma_collection(path=\"./db\", name=\"nifty\")"
   ]
  },
  {
   "cell_type": "code",
   "execution_count": null,
   "metadata": {
    "id": "p3b_N783NLuO"
   },
   "outputs": [],
   "source": [
    "import pandas as pd\n",
    "from typing import List, Dict\n",
    "\n",
    "def df_to_documents(df: pd.DataFrame) -> List[Dict[str, str]]:\n",
    "    \"\"\"\n",
    "    Convert a DataFrame to a list of dictionaries, where each dictionary represents a row in the DataFrame.\n",
    "    Skip rows with missing or invalid values.\n",
    "    \"\"\"\n",
    "    documents = []\n",
    "    for _, row in df.iterrows():\n",
    "        if any(row.isnull()):\n",
    "            continue  # Skip rows with missing values\n",
    "        try:\n",
    "            document = {\n",
    "                \"Date\": str(row[\"Date\"]),\n",
    "                \"Open\": str(row[\"Open\"]),\n",
    "                \"High\": str(row[\"High\"]),\n",
    "                \"Low\": str(row[\"Low\"]),\n",
    "                \"Close\": str(row[\"Close\"]),\n",
    "                \"Shares Traded\": str(row[\"Shares Traded\"]),\n",
    "                \"Turnover (₹ Cr)\": str(row[\"Turnover (₹ Cr)\"])\n",
    "            }\n",
    "            documents.append(document)\n",
    "        except Exception as e:\n",
    "            print(f\"Error processing row: {e}\")\n",
    "            continue  # Skip rows with invalid values\n",
    "    return documents\n",
    "\n",
    "# Convert the DataFrame to a list of documents\n",
    "documents = df_to_documents(df)\n",
    "\n",
    "# Create the Chroma database using the documents\n",
    "db, name = create_chroma_db(documents=documents, path=\"./db\", name=\"nifty\")"
   ]
  },
  {
   "cell_type": "code",
   "execution_count": null,
   "metadata": {
    "colab": {
     "base_uri": "https://localhost:8080/"
    },
    "id": "hplYzuWEPULk",
    "outputId": "c46897e0-b3aa-4e1e-e891-28536a3436f6"
   },
   "outputs": [
    {
     "data": {
      "text/plain": [
       "{'Date': '27-MAR-2023',\n",
       " 'Open': '16984.3',\n",
       " 'High': '17091.0',\n",
       " 'Low': '16918.55',\n",
       " 'Close': '16985.7',\n",
       " 'Shares Traded': '218418670',\n",
       " 'Turnover (₹ Cr)': '18466.56'}"
      ]
     },
     "execution_count": 20,
     "metadata": {},
     "output_type": "execute_result"
    }
   ],
   "source": [
    "documents[0]"
   ]
  },
  {
   "cell_type": "code",
   "execution_count": null,
   "metadata": {
    "id": "CtxGC0GHOS1L"
   },
   "outputs": [],
   "source": [
    "def get_relevant_passage(query, db, n_results):\n",
    "  passage = db.query(query_texts=[query], n_results=n_results)['documents'][0]\n",
    "  return passage\n",
    "\n",
    "#Example usage\n",
    "relevant_text = get_relevant_passage(query=\"Sanctions on Russia\",db=db,n_results=3)"
   ]
  },
  {
   "cell_type": "code",
   "execution_count": null,
   "metadata": {
    "id": "a7T__E0uOWdw"
   },
   "outputs": [],
   "source": [
    "def make_rag_prompt(query, relevant_passage):\n",
    "  escaped = relevant_passage.replace(\"'\", \"\").replace('\"', \"\").replace(\"\\n\", \" \")\n",
    "  prompt = (\"\"\"You are a friendly and knowledgeable financial assistant that provides insightful analysis and generates valuable insights from financial data. When given a dataset or query related to financial markets, stocks, indices, or economic indicators, you should thoroughly analyze the information and provide a comprehensive response that includes relevant background context, key observations, and actionable insights.\n",
    "\n",
    "Be sure to explain complex financial concepts in simple terms that a non-technical audience can easily understand. Avoid using excessive jargon or technical terminology unless it's absolutely necessary, and provide clear explanations for any financial terms you do use. Adopt a conversational and approachable tone, as if you're having a friendly discussion with someone who is interested in learning about finance but may not have extensive prior knowledge.\n",
    "\n",
    "If the provided data or query is irrelevant or insufficient to generate meaningful insights, politely acknowledge this and suggest alternative approaches or additional information that could be helpful for analysis.\n",
    "\n",
    "Your goal is to make financial analysis accessible and engaging for a general audience, while still providing substantive and actionable insights based on the data or query at hand. Strike a balance between being informative and easy to understand, and feel free to use analogies, examples, or visual aids (if applicable) to illustrate your points.\n",
    "  QUESTION: 'From the following list of stock prices, which should be the ideal buy and why, answer in detail citing financial concepts to support your reasoning.'\n",
    "  PASSAGE: '{relevant_passage}'\n",
    "\n",
    "  ANSWER:\n",
    "  \"\"\").format(query=query, relevant_passage=escaped)\n",
    "\n",
    "  return prompt"
   ]
  },
  {
   "cell_type": "code",
   "execution_count": null,
   "metadata": {
    "id": "uTRgPCECYq2S"
   },
   "outputs": [],
   "source": [
    "import google.generativeai as genai\n",
    "def generate_answer(prompt):\n",
    "    gemini_api_key = os.getenv(\"GEMINI_API_KEY\")\n",
    "    if not gemini_api_key:\n",
    "        raise ValueError(\"Gemini API Key not provided. Please provide GEMINI_API_KEY as an environment variable\")\n",
    "    genai.configure(api_key=gemini_api_key)\n",
    "    model = genai.GenerativeModel('gemini-pro')\n",
    "    answer = model.generate_content(prompt)\n",
    "    return answer.text"
   ]
  },
  {
   "cell_type": "code",
   "execution_count": null,
   "metadata": {
    "id": "lWS4DA-_YvO2"
   },
   "outputs": [],
   "source": [
    "def generate_answer(db,query):\n",
    "    #retrieve top 3 relevant text chunks\n",
    "    relevant_text = get_relevant_passage(query,db,n_results=3)\n",
    "    prompt = make_rag_prompt(query,\n",
    "                             relevant_passage=\"\".join(relevant_text)) # joining the relevant chunks to create a single passage\n",
    "    answer = generate_answer(prompt)\n",
    "\n",
    "    return answer"
   ]
  },
  {
   "cell_type": "code",
   "execution_count": null,
   "metadata": {
    "id": "lbHtTijMYxyn"
   },
   "outputs": [],
   "source": [
    "answer = generate_answer(db,query=\"From the following list of stock prices, which should be the ideal buy and why, answer in detail citing financial concepts to support your reasoning.\")\n",
    "print(answer)"
   ]
  },
  {
   "cell_type": "code",
   "execution_count": null,
   "metadata": {
    "id": "orhPI_DPKa22"
   },
   "outputs": [],
   "source": [
    "import pandas as pd\n",
    "from chromadb import Documents, EmbeddingFunction, Embeddings\n",
    "import os\n",
    "import google.generativeai as genai\n",
    "\n",
    "# Sample DataFrame\n",
    "data = {\n",
    "    'Date': ['27-MAR-2023', '28-MAR-2023', '29-MAR-2023', '31-MAR-2023', '03-APR-2023'],\n",
    "    'Open': [16984.30, 17031.75, 16977.30, 17210.35, 17427.95],\n",
    "    'High': [17091.00, 17061.75, 17126.15, 17381.60, 17428.05],\n",
    "    'Low': [16918.55, 16913.75, 16940.60, 17204.65, 17312.75],\n",
    "    'Close': [16985.70, 16951.70, 17080.70, 17359.75, 17398.05],\n",
    "    'Shares Traded': [218418670, 238840919, 345911087, 263889033, 230170687],\n",
    "    'Turnover (₹ Cr)': [18466.56, 20942.50, 27261.74, 24970.98, 20359.58]\n",
    "}\n",
    "df = pd.DataFrame(data)\n",
    "\n",
    "# Define custom embedding function\n",
    "class GeminiEmbeddingFunction(EmbeddingFunction):\n",
    "    def __call__(self, input: Documents) -> Embeddings:\n",
    "        gemini_api_key = os.getenv(\"GEMINI_API_KEY\")\n",
    "        if not gemini_api_key:\n",
    "            raise ValueError(\"Gemini API Key not provided. Please provide GEMINI_API_KEY as an environment variable\")\n",
    "        genai.configure(api_key=gemini_api_key)\n",
    "        model = \"models/embedding-001\"\n",
    "        title = \"Custom query\"\n",
    "        return genai.embed_content(model=model,\n",
    "                                   content=input,\n",
    "                                   task_type=\"retrieval_document\",\n",
    "                                   title=title)[\"embedding\"]\n",
    "\n",
    "# Convert DataFrame to Documents\n",
    "documents = Documents.from_df(df, id_col='Date', text_col=['Open', 'High', 'Low', 'Close', 'Shares Traded', 'Turnover (₹ Cr)'])\n",
    "\n",
    "# Use the custom embedding function to generate embeddings\n",
    "embedding_function = GeminiEmbeddingFunction()\n",
    "embeddings = embedding_function(documents)\n",
    "\n",
    "# The 'embeddings' variable now contains the embeddings for the documents"
   ]
  }
 ],
 "metadata": {
  "colab": {
   "collapsed_sections": [
    "Tce3stUlHN0L"
   ],
   "provenance": []
  },
  "kernelspec": {
   "display_name": "Python 3 (ipykernel)",
   "language": "python",
   "name": "python3"
  },
  "language_info": {
   "codemirror_mode": {
    "name": "ipython",
    "version": 3
   },
   "file_extension": ".py",
   "mimetype": "text/x-python",
   "name": "python",
   "nbconvert_exporter": "python",
   "pygments_lexer": "ipython3",
   "version": "3.9.12"
  }
 },
 "nbformat": 4,
 "nbformat_minor": 4
}
